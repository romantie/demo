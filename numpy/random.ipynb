{
 "cells": [
  {
   "cell_type": "markdown",
   "metadata": {},
   "source": [
    "## numpy中random模块产生随机数\n",
    "1. 产生随机数的方法\n",
    "    1. rand() 　　产生[0,1]的浮点随机数,括号里面的参数可以指定产生数组的形状\n",
    "    2. randn()　　产生标准正太分布随机数，参数含义与random相同\n",
    "    3. randint()　　产生指定范围的随机数，最后一个参数是元祖，确定数组的形状\n",
    "2. 常用分布\n",
    "   1. normal(）　　正太分布\n",
    "   2. uniform()　　均匀分布\n",
    "   3. poisson()　　泊松分布\n",
    "3. 乱序和随机抽取\n",
    "   1. shuffle() 根据数组的第一轴进行随机排列，改变数组\n",
    "   2. permutation() 根据数组的第一轴产生一个新的乱序数组，不改变数组\n",
    "   3. choice(a,[,size,replace,p])  从一维数组中意概率p抽取元素，形成size形状的新数组，replace表示是否可以重用元素，默认是False"
   ]
  },
  {
   "cell_type": "code",
   "execution_count": 3,
   "metadata": {},
   "outputs": [
    {
     "data": {
      "text/plain": [
       "array([[[0.03981108, 0.91836382, 0.92710838, 0.65510134, 0.97955925],\n",
       "        [0.15451978, 0.14722667, 0.37221513, 0.03603127, 0.82707464],\n",
       "        [0.07324249, 0.2454074 , 0.23851544, 0.6538309 , 0.5093643 ],\n",
       "        [0.45440818, 0.73074743, 0.71777944, 0.28868269, 0.2554641 ]],\n",
       "\n",
       "       [[0.95907571, 0.41810704, 0.84569667, 0.74927957, 0.51916659],\n",
       "        [0.23335913, 0.53471954, 0.83018152, 0.05219839, 0.73114234],\n",
       "        [0.2076154 , 0.0956393 , 0.14043027, 0.61894813, 0.47763035],\n",
       "        [0.51753088, 0.23452011, 0.09563357, 0.32338085, 0.91953517]],\n",
       "\n",
       "       [[0.92725234, 0.44382386, 0.15047355, 0.04683946, 0.24610117],\n",
       "        [0.32001386, 0.37629394, 0.78809439, 0.7295746 , 0.9276709 ],\n",
       "        [0.95345769, 0.47610291, 0.75445707, 0.75307577, 0.95782705],\n",
       "        [0.4752363 , 0.19925779, 0.53362318, 0.86523423, 0.66311092]]])"
      ]
     },
     "execution_count": 3,
     "metadata": {},
     "output_type": "execute_result"
    }
   ],
   "source": [
    "import numpy as np\n",
    "a = np.random.rand(3,4,5)\n",
    "a"
   ]
  },
  {
   "cell_type": "code",
   "execution_count": 4,
   "metadata": {},
   "outputs": [
    {
     "data": {
      "text/plain": [
       "array([[113, 116, 113, 103],\n",
       "       [105, 104, 101, 109],\n",
       "       [104, 116, 115, 116]])"
      ]
     },
     "execution_count": 4,
     "metadata": {},
     "output_type": "execute_result"
    }
   ],
   "source": [
    "b = np.random.randint(100,120,(3,4))\n",
    "b"
   ]
  },
  {
   "cell_type": "code",
   "execution_count": 5,
   "metadata": {},
   "outputs": [
    {
     "data": {
      "text/plain": [
       "array([[105, 104, 101, 109],\n",
       "       [113, 116, 113, 103],\n",
       "       [104, 116, 115, 116]])"
      ]
     },
     "execution_count": 5,
     "metadata": {},
     "output_type": "execute_result"
    }
   ],
   "source": [
    "np.random.permutation(b)"
   ]
  },
  {
   "cell_type": "markdown",
   "metadata": {},
   "source": [
    "## 关于常用分布\n",
    "    1. normal(iow，high,size）　正态分布,low起始值，high结束值，size形状\n",
    "    2. uniform(loc,scale,size)　均匀分布，loc均值，scale标准差，size形状\n",
    "    3. poisson(lam,size)　　泊松分布，lam随机事件发生率，size形状"
   ]
  },
  {
   "cell_type": "code",
   "execution_count": 8,
   "metadata": {},
   "outputs": [
    {
     "data": {
      "text/plain": [
       "array([[ 8.55534476,  9.48111564, 12.08945918,  9.48659342],\n",
       "       [ 8.46447183, 17.72147327,  9.77816149,  4.90556247],\n",
       "       [12.63948457,  7.8163882 ,  9.23039568,  8.40635744]])"
      ]
     },
     "execution_count": 8,
     "metadata": {},
     "output_type": "execute_result"
    }
   ],
   "source": [
    "c = np.random.normal(10,5,(3,4))\n",
    "c"
   ]
  },
  {
   "cell_type": "code",
   "execution_count": null,
   "metadata": {},
   "outputs": [],
   "source": []
  }
 ],
 "metadata": {
  "kernelspec": {
   "display_name": "Python 3",
   "language": "python",
   "name": "python3"
  },
  "language_info": {
   "codemirror_mode": {
    "name": "ipython",
    "version": 3
   },
   "file_extension": ".py",
   "mimetype": "text/x-python",
   "name": "python",
   "nbconvert_exporter": "python",
   "pygments_lexer": "ipython3",
   "version": "3.7.0"
  }
 },
 "nbformat": 4,
 "nbformat_minor": 2
}
