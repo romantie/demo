{
 "cells": [
  {
   "cell_type": "markdown",
   "metadata": {},
   "source": [
    "# NumPy数据存储和读入"
   ]
  },
  {
   "cell_type": "markdown",
   "metadata": {},
   "source": [
    "## csv文件(仅限一维和二维数据)\n",
    "\n",
    "    np.savetxt(frame,array,fmt='%.18e',delimiter=None)\n",
    "    * frame:文件，字符串或产生器，可以是.gz或.bz2的压缩文件\n",
    "    * array:存入文件的数组\n",
    "    * fmt:写入文件的格式\n",
    "    * delimiter:分割字符串，默认是空格\n",
    "    \n",
    "    np.loadtxt(frame,dtype=np.float,delimiter=None,unpack=Flase)\n",
    "    * frame:文件，字符串或产生器，可以是.gz或.bz2的压缩文件\n",
    "    * dtype: 数据类型，可选\n",
    "    * delimiter:分割字符串，默认是空格\n",
    "    * unpack: 如果是Ture，读入属性将分别写入不同变量"
   ]
  },
  {
   "cell_type": "code",
   "execution_count": 2,
   "metadata": {},
   "outputs": [],
   "source": [
    "import numpy as np\n",
    "a = np.arange(120).reshape(6,20)\n",
    "np.savetxt('a.csv',a,fmt='%2d',delimiter=',')"
   ]
  },
  {
   "cell_type": "code",
   "execution_count": 3,
   "metadata": {},
   "outputs": [
    {
     "data": {
      "text/plain": [
       "array([[  0.,   1.,   2.,   3.,   4.,   5.,   6.,   7.,   8.,   9.,  10.,\n",
       "         11.,  12.,  13.,  14.,  15.,  16.,  17.,  18.,  19.],\n",
       "       [ 20.,  21.,  22.,  23.,  24.,  25.,  26.,  27.,  28.,  29.,  30.,\n",
       "         31.,  32.,  33.,  34.,  35.,  36.,  37.,  38.,  39.],\n",
       "       [ 40.,  41.,  42.,  43.,  44.,  45.,  46.,  47.,  48.,  49.,  50.,\n",
       "         51.,  52.,  53.,  54.,  55.,  56.,  57.,  58.,  59.],\n",
       "       [ 60.,  61.,  62.,  63.,  64.,  65.,  66.,  67.,  68.,  69.,  70.,\n",
       "         71.,  72.,  73.,  74.,  75.,  76.,  77.,  78.,  79.],\n",
       "       [ 80.,  81.,  82.,  83.,  84.,  85.,  86.,  87.,  88.,  89.,  90.,\n",
       "         91.,  92.,  93.,  94.,  95.,  96.,  97.,  98.,  99.],\n",
       "       [100., 101., 102., 103., 104., 105., 106., 107., 108., 109., 110.,\n",
       "        111., 112., 113., 114., 115., 116., 117., 118., 119.]])"
      ]
     },
     "execution_count": 3,
     "metadata": {},
     "output_type": "execute_result"
    }
   ],
   "source": [
    "b = np.loadtxt('a.csv',delimiter=',')\n",
    "b"
   ]
  },
  {
   "cell_type": "markdown",
   "metadata": {},
   "source": [
    "## 任意维度的数据存储\n",
    "    .tofile(frame,sep='',format='%s')\n",
    "    * frame: 文件，字符串\n",
    "    * sep: 数据分割字符串，如果是空串，写入文件为二进制\n",
    "    * format: 写入数据的格式\n",
    "    \n",
    "    np.fromfile(frame,dtype=float,count=-1,sep='')\n",
    "    * count:读入元素的个数，-1表示读入全部\n",
    "    其他参数同上"
   ]
  },
  {
   "cell_type": "code",
   "execution_count": 4,
   "metadata": {},
   "outputs": [],
   "source": [
    "a = np.arange(100).reshape(5,10,2)\n",
    "a.tofile('b.csv',sep=',',format='%d')"
   ]
  },
  {
   "cell_type": "code",
   "execution_count": 5,
   "metadata": {},
   "outputs": [
    {
     "data": {
      "text/plain": [
       "array([ 0,  1,  2,  3,  4,  5,  6,  7,  8,  9, 10, 11, 12, 13, 14, 15, 16,\n",
       "       17, 18, 19, 20, 21, 22, 23, 24, 25, 26, 27, 28, 29, 30, 31, 32, 33,\n",
       "       34, 35, 36, 37, 38, 39, 40, 41, 42, 43, 44, 45, 46, 47, 48, 49, 50,\n",
       "       51, 52, 53, 54, 55, 56, 57, 58, 59, 60, 61, 62, 63, 64, 65, 66, 67,\n",
       "       68, 69, 70, 71, 72, 73, 74, 75, 76, 77, 78, 79, 80, 81, 82, 83, 84,\n",
       "       85, 86, 87, 88, 89, 90, 91, 92, 93, 94, 95, 96, 97, 98, 99])"
      ]
     },
     "execution_count": 5,
     "metadata": {},
     "output_type": "execute_result"
    }
   ],
   "source": [
    "c = np.fromfile('b.csv',dtype=np.int,count= -1,sep=',')\n",
    "c"
   ]
  },
  {
   "cell_type": "markdown",
   "metadata": {},
   "source": [
    "## numpy中random模块产生随机数\n",
    "1. 产生随机数的方法\n",
    "    1. rand() 　　产生[0,1]的浮点随机数,括号里面的参数可以指定产生数组的形状\n",
    "    2. randn()　　产生标准正太分布随机数，参数含义与random相同\n",
    "    3. randint()　　产生指定范围的随机数，最后一个参数是元祖，确定数组的形状\n",
    "2. 常用分布\n",
    "   1. normal(）　　正太分布\n",
    "   2. uniform()　　均匀分布\n",
    "   3. poisson()　　泊松分布\n",
    "3. 乱序和随机抽取\n",
    "   1. shuffle() 根据数组的第一轴进行随机排列，改变数组\n",
    "   2. permutation() 根据数组的第一轴产生一个新的乱序数组，不改变数组\n",
    "   3. choice(a,[,size,replace,p])  从一维数组中意概率p抽取元素，形成size形状的新数组，replace表示是否可以重用元素，默认是False"
   ]
  },
  {
   "cell_type": "code",
   "execution_count": 6,
   "metadata": {},
   "outputs": [
    {
     "data": {
      "text/plain": [
       "array([[[0.68670286, 0.04938666, 0.16380148, 0.65501826, 0.19693535],\n",
       "        [0.84798519, 0.67034773, 0.69859922, 0.89783656, 0.84745347],\n",
       "        [0.63678182, 0.89202542, 0.67822446, 0.92399556, 0.67238938],\n",
       "        [0.47264434, 0.15424216, 0.42999713, 0.62563522, 0.70836184]],\n",
       "\n",
       "       [[0.91237002, 0.76913677, 0.93591072, 0.58704436, 0.52876933],\n",
       "        [0.6959677 , 0.40792933, 0.84349387, 0.38559358, 0.29549017],\n",
       "        [0.80985113, 0.84737437, 0.66548429, 0.42977439, 0.49353092],\n",
       "        [0.31643587, 0.61012592, 0.80750459, 0.67758127, 0.48803914]],\n",
       "\n",
       "       [[0.83164099, 0.97125298, 0.6922265 , 0.81180467, 0.50938635],\n",
       "        [0.60392468, 0.50571989, 0.98953861, 0.8383679 , 0.87153115],\n",
       "        [0.04374014, 0.59827718, 0.77617646, 0.82689766, 0.84759616],\n",
       "        [0.88992718, 0.4399082 , 0.15361888, 0.67068806, 0.71430521]]])"
      ]
     },
     "execution_count": 6,
     "metadata": {},
     "output_type": "execute_result"
    }
   ],
   "source": [
    "a = np.random.rand(3,4,5)\n",
    "a"
   ]
  },
  {
   "cell_type": "code",
   "execution_count": 7,
   "metadata": {},
   "outputs": [
    {
     "data": {
      "text/plain": [
       "array([[109, 114, 102, 103],\n",
       "       [111, 101, 119, 118],\n",
       "       [109, 110, 115, 101]])"
      ]
     },
     "execution_count": 7,
     "metadata": {},
     "output_type": "execute_result"
    }
   ],
   "source": [
    "b = np.random.randint(100,120,(3,4))\n",
    "b"
   ]
  },
  {
   "cell_type": "code",
   "execution_count": 8,
   "metadata": {},
   "outputs": [
    {
     "data": {
      "text/plain": [
       "array([[109, 114, 102, 103],\n",
       "       [111, 101, 119, 118],\n",
       "       [109, 110, 115, 101]])"
      ]
     },
     "execution_count": 8,
     "metadata": {},
     "output_type": "execute_result"
    }
   ],
   "source": [
    "np.random.shuffle(b)\n",
    "b"
   ]
  },
  {
   "cell_type": "code",
   "execution_count": 9,
   "metadata": {},
   "outputs": [
    {
     "data": {
      "text/plain": [
       "array([[109, 110, 115, 101],\n",
       "       [109, 114, 102, 103],\n",
       "       [111, 101, 119, 118]])"
      ]
     },
     "execution_count": 9,
     "metadata": {},
     "output_type": "execute_result"
    }
   ],
   "source": [
    "np.random.permutation(b)"
   ]
  },
  {
   "cell_type": "markdown",
   "metadata": {},
   "source": [
    "## random中常用的统计函数\n",
    "    sum(a,axis=None) 根据给定轴axis计算数组a的相关元素之和，axis为整数或元组\n",
    "    mean(a,axis=None) 根据给定轴axis计算数组a的相关元素期望\n",
    "    average(a,axis=None,weights=None) 加权平均值\n",
    "    std(a,axis=None) 计算标准差\n",
    "    var(a,axis=None) 计算方差\n",
    "    max(a)/min(a)  返回数组a的最大值或最小值"
   ]
  },
  {
   "cell_type": "code",
   "execution_count": 10,
   "metadata": {},
   "outputs": [
    {
     "data": {
      "text/plain": [
       "array([[ 0,  1,  2,  3,  4],\n",
       "       [ 5,  6,  7,  8,  9],\n",
       "       [10, 11, 12, 13, 14]])"
      ]
     },
     "execution_count": 10,
     "metadata": {},
     "output_type": "execute_result"
    }
   ],
   "source": [
    "a = np.arange(15).reshape(3,5)\n",
    "a"
   ]
  },
  {
   "cell_type": "code",
   "execution_count": 11,
   "metadata": {},
   "outputs": [
    {
     "data": {
      "text/plain": [
       "105"
      ]
     },
     "execution_count": 11,
     "metadata": {},
     "output_type": "execute_result"
    }
   ],
   "source": [
    "np.sum(a)"
   ]
  },
  {
   "cell_type": "code",
   "execution_count": 12,
   "metadata": {},
   "outputs": [
    {
     "data": {
      "text/plain": [
       "7.0"
      ]
     },
     "execution_count": 12,
     "metadata": {},
     "output_type": "execute_result"
    }
   ],
   "source": [
    "np.mean(a)"
   ]
  },
  {
   "cell_type": "code",
   "execution_count": 13,
   "metadata": {},
   "outputs": [
    {
     "data": {
      "text/plain": [
       "array([ 2.,  7., 12.])"
      ]
     },
     "execution_count": 13,
     "metadata": {},
     "output_type": "execute_result"
    }
   ],
   "source": [
    "np.mean(a,axis=1)"
   ]
  },
  {
   "cell_type": "code",
   "execution_count": 15,
   "metadata": {},
   "outputs": [
    {
     "data": {
      "text/plain": [
       "14"
      ]
     },
     "execution_count": 15,
     "metadata": {},
     "output_type": "execute_result"
    }
   ],
   "source": [
    "np.max(a)"
   ]
  },
  {
   "cell_type": "markdown",
   "metadata": {},
   "source": [
    "## NumPy的梯度函数\n",
    "    np.gradient()"
   ]
  },
  {
   "cell_type": "code",
   "execution_count": 17,
   "metadata": {},
   "outputs": [
    {
     "data": {
      "text/plain": [
       "array([ 4, 13,  1,  1, 11])"
      ]
     },
     "execution_count": 17,
     "metadata": {},
     "output_type": "execute_result"
    }
   ],
   "source": [
    "c = np.random.randint(0,15,(5))\n",
    "c"
   ]
  },
  {
   "cell_type": "code",
   "execution_count": 18,
   "metadata": {},
   "outputs": [
    {
     "data": {
      "text/plain": [
       "array([ 9. , -1.5, -6. ,  5. , 10. ])"
      ]
     },
     "execution_count": 18,
     "metadata": {},
     "output_type": "execute_result"
    }
   ],
   "source": [
    "np.gradient(c)"
   ]
  }
 ],
 "metadata": {
  "kernelspec": {
   "display_name": "Python 3",
   "language": "python",
   "name": "python3"
  },
  "language_info": {
   "codemirror_mode": {
    "name": "ipython",
    "version": 3
   },
   "file_extension": ".py",
   "mimetype": "text/x-python",
   "name": "python",
   "nbconvert_exporter": "python",
   "pygments_lexer": "ipython3",
   "version": "3.7.0"
  }
 },
 "nbformat": 4,
 "nbformat_minor": 2
}
