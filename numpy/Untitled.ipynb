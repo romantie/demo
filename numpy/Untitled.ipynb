{
 "cells": [
  {
   "cell_type": "code",
   "execution_count": 3,
   "metadata": {},
   "outputs": [],
   "source": [
    "s = \"whatsyourproblem\"\n",
    "p = 5\n",
    "ops = [\n",
    "    ['L', 2],\n",
    "    ['D', 1],\n",
    "    ['R', 4],\n",
    "    ['I', 'abcdef'],\n",
    "    ['L', 3],\n",
    "    ['B', 2]]"
   ]
  },
  {
   "cell_type": "code",
   "execution_count": 4,
   "metadata": {},
   "outputs": [],
   "source": [
    "class Task(object):\n",
    "    def solver(self, s, p, ops):\n",
    "        # ********** Begin ********** #\n",
    "        if 0<=p<=len(s) and 1<=len(ops)<=100000:\n",
    "            for op in ops:\n",
    "                if op[0] == 'I':\n",
    "                    s = s[:p] + op[1] + s[p:]\n",
    "                    p = p + len(op[1])\n",
    "                    continue\n",
    "                elif (op[0] == 'B' and p!=0):\n",
    "                    s = s[:(p-op[1])] + s[p:]\n",
    "                    p = p - op[1]\n",
    "                    continue\n",
    "                elif (op[0] == 'D' and p!=len(s)):\n",
    "                    s = s[0:p] + s[(p+op[1]):]\n",
    "                    continue\n",
    "                elif (op[0] == 'L' and p!=0):\n",
    "                    p = p - op[1]\n",
    "                    continue\n",
    "                elif (op[0] == 'R' and p!=len(s)):\n",
    "                    p = p + op[1]\n",
    "                    continue\n",
    "        return s\n",
    "        return\n",
    "        # ********** End ********** #"
   ]
  },
  {
   "cell_type": "code",
   "execution_count": 7,
   "metadata": {},
   "outputs": [
    {
     "data": {
      "text/plain": [
       "<__main__.Task at 0x1f29a3da160>"
      ]
     },
     "execution_count": 7,
     "metadata": {},
     "output_type": "execute_result"
    }
   ],
   "source": []
  },
  {
   "cell_type": "code",
   "execution_count": null,
   "metadata": {},
   "outputs": [],
   "source": []
  }
 ],
 "metadata": {
  "kernelspec": {
   "display_name": "Python 3",
   "language": "python",
   "name": "python3"
  },
  "language_info": {
   "codemirror_mode": {
    "name": "ipython",
    "version": 3
   },
   "file_extension": ".py",
   "mimetype": "text/x-python",
   "name": "python",
   "nbconvert_exporter": "python",
   "pygments_lexer": "ipython3",
   "version": "3.7.0"
  }
 },
 "nbformat": 4,
 "nbformat_minor": 2
}
