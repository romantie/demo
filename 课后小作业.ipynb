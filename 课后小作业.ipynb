{
 "cells": [
  {
   "cell_type": "code",
   "execution_count": 1,
   "metadata": {},
   "outputs": [],
   "source": [
    "import random "
   ]
  },
  {
   "cell_type": "code",
   "execution_count": 4,
   "metadata": {},
   "outputs": [
    {
     "name": "stdout",
     "output_type": "stream",
     "text": [
      "输入你要做题的个数3\n",
      "7 + 6=\n",
      "输入答案（q退出）13\n",
      "正确答案 13\n",
      "~~~~~~~~~~~~~~~~~~~~~~\n",
      "6 / 1=\n",
      "输入答案（q退出）6\n",
      "正确答案 6.0\n",
      "~~~~~~~~~~~~~~~~~~~~~~\n",
      "10 + 1=\n",
      "输入答案（q退出）q\n",
      "正确答案 11\n",
      "~~~~~~~~~~~~~~~~~~~~~~\n",
      "正确率为: 33%\n"
     ]
    }
   ],
   "source": [
    "#没有排除  除数为0的情况\n",
    "count=0\n",
    "right=0\n",
    "#number=2\n",
    "number=int(input(\"输入你要做题的个数\"))\n",
    "while count<number:\n",
    "    op=[\"+\",\"-\",\"*\",\"/\"]\n",
    "    s=random.choice(op)\n",
    "    a=random.randint(0,10)\n",
    "    b=random.randint(1,10)\n",
    "    answer=eval(str(a)+s+str(b))\n",
    "    print('%d %s %d='%(a,s,b))\n",
    "    question=input(\"输入答案（q退出）\")\n",
    "    print(\"正确答案\",answer)\n",
    "    print(\"~~~~~~~~~~~~~~~~~~~~~~\")\n",
    "    if question==str(answer):\n",
    "        right+=1\n",
    "    elif question==\"q\":\n",
    "        break\n",
    "    count+=1\n",
    "print('正确率为: {:.0%}'.format(right/number))"
   ]
  },
  {
   "cell_type": "code",
   "execution_count": null,
   "metadata": {},
   "outputs": [],
   "source": []
  },
  {
   "cell_type": "code",
   "execution_count": null,
   "metadata": {},
   "outputs": [],
   "source": []
  }
 ],
 "metadata": {
  "kernelspec": {
   "display_name": "Python 3",
   "language": "python",
   "name": "python3"
  },
  "language_info": {
   "codemirror_mode": {
    "name": "ipython",
    "version": 3
   },
   "file_extension": ".py",
   "mimetype": "text/x-python",
   "name": "python",
   "nbconvert_exporter": "python",
   "pygments_lexer": "ipython3",
   "version": "3.7.0"
  }
 },
 "nbformat": 4,
 "nbformat_minor": 2
}
